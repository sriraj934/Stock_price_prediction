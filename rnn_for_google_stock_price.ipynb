{
  "nbformat": 4,
  "nbformat_minor": 0,
  "metadata": {
    "colab": {
      "name": "rnn for google_stock_price.ipynb",
      "provenance": [],
      "collapsed_sections": [],
      "toc_visible": true,
      "include_colab_link": true
    },
    "kernelspec": {
      "name": "python3",
      "display_name": "Python 3"
    }
  },
  "cells": [
    {
      "cell_type": "markdown",
      "metadata": {
        "id": "view-in-github",
        "colab_type": "text"
      },
      "source": [
        "<a href=\"https://colab.research.google.com/github/sriraj934/Stock_price_prediction/blob/main/rnn_for_google_stock_price.ipynb\" target=\"_parent\"><img src=\"https://colab.research.google.com/assets/colab-badge.svg\" alt=\"Open In Colab\"/></a>"
      ]
    },
    {
      "cell_type": "markdown",
      "metadata": {
        "id": "xpAuMVCwfWs8"
      },
      "source": [
        "# Recurrent Neural Network"
      ]
    },
    {
      "cell_type": "markdown",
      "metadata": {
        "id": "nxJfRe4bfYVA"
      },
      "source": [
        "## Part 1 - Data Preprocessing"
      ]
    },
    {
      "cell_type": "markdown",
      "metadata": {
        "id": "ir9zwETrfbrp"
      },
      "source": [
        "### Importing the libraries"
      ]
    },
    {
      "cell_type": "code",
      "metadata": {
        "id": "Lq1MaqTYqJL7"
      },
      "source": [
        "import numpy as np\r\n",
        "import pandas as pd\r\n",
        "import matplotlib.pyplot as plt"
      ],
      "execution_count": null,
      "outputs": []
    },
    {
      "cell_type": "markdown",
      "metadata": {
        "id": "nQ47JAxrgmaL"
      },
      "source": [
        "### Importing the training set"
      ]
    },
    {
      "cell_type": "code",
      "metadata": {
        "id": "wkbrF7SOtaBC"
      },
      "source": [
        " dataset_train = pd.read_csv('Google_Stock_Price_Train.csv')\r\n",
        " training_set = dataset_train.iloc[:,1:2].values"
      ],
      "execution_count": null,
      "outputs": []
    },
    {
      "cell_type": "code",
      "metadata": {
        "colab": {
          "base_uri": "https://localhost:8080/"
        },
        "id": "270Tc-5CwWLk",
        "outputId": "9485752d-db2b-457f-82df-c59604396545"
      },
      "source": [
        "print(training_set)"
      ],
      "execution_count": null,
      "outputs": [
        {
          "output_type": "stream",
          "text": [
            "[[325.25]\n",
            " [331.27]\n",
            " [329.83]\n",
            " ...\n",
            " [793.7 ]\n",
            " [783.33]\n",
            " [782.75]]\n"
          ],
          "name": "stdout"
        }
      ]
    },
    {
      "cell_type": "markdown",
      "metadata": {
        "id": "HT8_2UJegtG5"
      },
      "source": [
        "### Feature Scaling"
      ]
    },
    {
      "cell_type": "code",
      "metadata": {
        "id": "TgYqtN_GyAma"
      },
      "source": [
        "from sklearn.preprocessing import MinMaxScaler\r\n",
        "sc = MinMaxScaler(feature_range = (0,1))\r\n",
        "training_set_scaler = sc.fit_transform(training_set)"
      ],
      "execution_count": null,
      "outputs": []
    },
    {
      "cell_type": "code",
      "metadata": {
        "colab": {
          "base_uri": "https://localhost:8080/"
        },
        "id": "TAIy6XFF4f6Q",
        "outputId": "9b5ad076-da0a-45bf-b8c6-69a315eb1d3e"
      },
      "source": [
        "print(training_set_scaler)"
      ],
      "execution_count": null,
      "outputs": [
        {
          "output_type": "stream",
          "text": [
            "[[0.08581368]\n",
            " [0.09701243]\n",
            " [0.09433366]\n",
            " ...\n",
            " [0.95725128]\n",
            " [0.93796041]\n",
            " [0.93688146]]\n"
          ],
          "name": "stdout"
        }
      ]
    },
    {
      "cell_type": "markdown",
      "metadata": {
        "id": "JyYgYocqhNUg"
      },
      "source": [
        "### Creating a data structure with 60 timesteps and 1 output"
      ]
    },
    {
      "cell_type": "code",
      "metadata": {
        "id": "JIloFkP-8KLE"
      },
      "source": [
        "X_train = []\r\n",
        "y_train = []\r\n",
        "for i in range(60,1258):\r\n",
        "  X_train.append(training_set_scaler[i-60:i,0])\r\n",
        "  y_train.append(training_set_scaler[i, 0])\r\n",
        "X_train,y_train = np.array(X_train),np.array(y_train)"
      ],
      "execution_count": null,
      "outputs": []
    },
    {
      "cell_type": "code",
      "metadata": {
        "colab": {
          "base_uri": "https://localhost:8080/"
        },
        "id": "AVCR8CdQCR6t",
        "outputId": "c41857a2-1541-4e3a-f7d2-6b2d467f907f"
      },
      "source": [
        "print(X_train)"
      ],
      "execution_count": null,
      "outputs": [
        {
          "output_type": "stream",
          "text": [
            "[[0.08581368 0.09701243 0.09433366 ... 0.07846566 0.08034452 0.08497656]\n",
            " [0.09701243 0.09433366 0.09156187 ... 0.08034452 0.08497656 0.08627874]\n",
            " [0.09433366 0.09156187 0.07984225 ... 0.08497656 0.08627874 0.08471612]\n",
            " ...\n",
            " [0.92106928 0.92438053 0.93048218 ... 0.95475854 0.95204256 0.95163331]\n",
            " [0.92438053 0.93048218 0.9299055  ... 0.95204256 0.95163331 0.95725128]\n",
            " [0.93048218 0.9299055  0.93113327 ... 0.95163331 0.95725128 0.93796041]]\n"
          ],
          "name": "stdout"
        }
      ]
    },
    {
      "cell_type": "code",
      "metadata": {
        "colab": {
          "base_uri": "https://localhost:8080/"
        },
        "id": "KnYJqZv5CVDc",
        "outputId": "ef2e5011-3754-4342-f448-ed851fb9b957"
      },
      "source": [
        "print(y_train)"
      ],
      "execution_count": null,
      "outputs": [
        {
          "output_type": "stream",
          "text": [
            "[0.08627874 0.08471612 0.07454052 ... 0.95725128 0.93796041 0.93688146]\n"
          ],
          "name": "stdout"
        }
      ]
    },
    {
      "cell_type": "code",
      "metadata": {
        "colab": {
          "base_uri": "https://localhost:8080/"
        },
        "id": "IUoSvxb-QHfi",
        "outputId": "76b49886-5e8c-4757-b811-340d5f990fde"
      },
      "source": [
        "print(training_set_scaler[60,0])"
      ],
      "execution_count": null,
      "outputs": [
        {
          "output_type": "stream",
          "text": [
            "0.08627874097775134\n"
          ],
          "name": "stdout"
        }
      ]
    },
    {
      "cell_type": "code",
      "metadata": {
        "colab": {
          "base_uri": "https://localhost:8080/"
        },
        "id": "cJcprePXQYPb",
        "outputId": "6bb7e833-a7f4-4e9b-901a-897553eaacc1"
      },
      "source": [
        "print(training_set_scaler[59,0])"
      ],
      "execution_count": null,
      "outputs": [
        {
          "output_type": "stream",
          "text": [
            "0.08497656075600868\n"
          ],
          "name": "stdout"
        }
      ]
    },
    {
      "cell_type": "code",
      "metadata": {
        "colab": {
          "base_uri": "https://localhost:8080/"
        },
        "id": "jUapMXmOQdXF",
        "outputId": "7dbb0f06-b8b9-4d79-b45f-12645b547c67"
      },
      "source": [
        "print(training_set_scaler[0,0])"
      ],
      "execution_count": null,
      "outputs": [
        {
          "output_type": "stream",
          "text": [
            "0.08581367661284323\n"
          ],
          "name": "stdout"
        }
      ]
    },
    {
      "cell_type": "markdown",
      "metadata": {
        "id": "D8yaN7Zvi95l"
      },
      "source": [
        "### Reshaping"
      ]
    },
    {
      "cell_type": "markdown",
      "metadata": {
        "id": "zQci7slJTejf"
      },
      "source": [
        "if we just write X_train.shape -will display both\r\n",
        "\r\n",
        "In specific\r\n",
        "*   For Number of Rows - X_train.shape[0]\r\n",
        "*   For number of Column - X_train.shape[1]"
      ]
    },
    {
      "cell_type": "code",
      "metadata": {
        "colab": {
          "base_uri": "https://localhost:8080/"
        },
        "id": "6DcykyZhTzx1",
        "outputId": "e9317485-9a19-49ab-8f49-88b284f483e2"
      },
      "source": [
        "print(X_train.shape[1])"
      ],
      "execution_count": null,
      "outputs": [
        {
          "output_type": "stream",
          "text": [
            "60\n"
          ],
          "name": "stdout"
        }
      ]
    },
    {
      "cell_type": "code",
      "metadata": {
        "colab": {
          "base_uri": "https://localhost:8080/"
        },
        "id": "NJ46jzK3QrYs",
        "outputId": "1e449622-9aec-48a5-d446-0543733dd0df"
      },
      "source": [
        "print(X_train.shape[0])"
      ],
      "execution_count": null,
      "outputs": [
        {
          "output_type": "stream",
          "text": [
            "1198\n"
          ],
          "name": "stdout"
        }
      ]
    },
    {
      "cell_type": "markdown",
      "metadata": {
        "id": "2jlnLFukT3d3"
      },
      "source": [
        "Finall code of Reshaping is \r\n",
        "* From 2D (X_train) --> 3Dimension(X_train)\r\n",
        "In 3D last one means Indicator\r\n"
      ]
    },
    {
      "cell_type": "code",
      "metadata": {
        "colab": {
          "base_uri": "https://localhost:8080/"
        },
        "id": "cy9RDXwKT8tm",
        "outputId": "bca226c3-f362-454f-d8eb-8cb02be69eb1"
      },
      "source": [
        "X_train = np.reshape(X_train,(X_train.shape[0],X_train.shape[1],1))\r\n",
        "print(X_train.shape)"
      ],
      "execution_count": null,
      "outputs": [
        {
          "output_type": "stream",
          "text": [
            "(1198, 60, 1)\n"
          ],
          "name": "stdout"
        }
      ]
    },
    {
      "cell_type": "markdown",
      "metadata": {
        "id": "ZRRSOJeVjEWV"
      },
      "source": [
        "## Part 2 - Building and Training the RNN"
      ]
    },
    {
      "cell_type": "markdown",
      "metadata": {
        "id": "k4XV88JMjHXG"
      },
      "source": [
        "### Importing the Keras libraries and packages"
      ]
    },
    {
      "cell_type": "code",
      "metadata": {
        "id": "flWgc_0EIA-V"
      },
      "source": [
        "from keras.models import Sequential\r\n",
        "from keras.layers import Dense\r\n",
        "from keras.layers import LSTM\r\n",
        "from keras.layers import Dropout"
      ],
      "execution_count": null,
      "outputs": []
    },
    {
      "cell_type": "markdown",
      "metadata": {
        "id": "FEIE-1s9jNzC"
      },
      "source": [
        "### Initialising the RNN"
      ]
    },
    {
      "cell_type": "code",
      "metadata": {
        "id": "j9I_JofFKEJk"
      },
      "source": [
        "regressor = Sequential()"
      ],
      "execution_count": null,
      "outputs": []
    },
    {
      "cell_type": "markdown",
      "metadata": {
        "id": "62eg1OPGjT8z"
      },
      "source": [
        "### Adding the first LSTM layer and some Dropout regularisation"
      ]
    },
    {
      "cell_type": "code",
      "metadata": {
        "id": "dMbSNcsoN8sx"
      },
      "source": [
        "regressor.add(LSTM(units=60 , return_sequences=True , input_shape = (X_train.shape[1],1)))\r\n",
        "regressor.add(Dropout(0.2))"
      ],
      "execution_count": null,
      "outputs": []
    },
    {
      "cell_type": "markdown",
      "metadata": {
        "id": "3XBIYLyOjlMx"
      },
      "source": [
        "### Adding a second LSTM layer and some Dropout regularisation"
      ]
    },
    {
      "cell_type": "code",
      "metadata": {
        "id": "iUIq8BJaRcD9"
      },
      "source": [
        "regressor.add(LSTM(units=60 , return_sequences=True))\r\n",
        "regressor.add(Dropout(0.2))"
      ],
      "execution_count": null,
      "outputs": []
    },
    {
      "cell_type": "markdown",
      "metadata": {
        "id": "Ey3fHVnGj1cu"
      },
      "source": [
        "### Adding a third LSTM layer and some Dropout regularisation"
      ]
    },
    {
      "cell_type": "code",
      "metadata": {
        "id": "W1ej0QwpY4nE"
      },
      "source": [
        "regressor.add(LSTM(units=60 , return_sequences=True))\r\n",
        "regressor.add(Dropout(0.2))"
      ],
      "execution_count": null,
      "outputs": []
    },
    {
      "cell_type": "markdown",
      "metadata": {
        "id": "SYTrtfTmj933"
      },
      "source": [
        "### Adding a fourth LSTM layer and some Dropout regularisation"
      ]
    },
    {
      "cell_type": "code",
      "metadata": {
        "id": "zJdhXWteY54Q"
      },
      "source": [
        "regressor.add(LSTM(units=60 , return_sequences=False))\r\n",
        "regressor.add(Dropout(0.2))"
      ],
      "execution_count": null,
      "outputs": []
    },
    {
      "cell_type": "markdown",
      "metadata": {
        "id": "9ABI6rOIkHhk"
      },
      "source": [
        "### Adding the output layer"
      ]
    },
    {
      "cell_type": "code",
      "metadata": {
        "id": "qGgzhwttZG9V"
      },
      "source": [
        "regressor.add(Dense(units=1))"
      ],
      "execution_count": null,
      "outputs": []
    },
    {
      "cell_type": "markdown",
      "metadata": {
        "id": "zLx4K7uUkPSh"
      },
      "source": [
        "### Compiling the RNN"
      ]
    },
    {
      "cell_type": "code",
      "metadata": {
        "id": "SvSGUsa3nWBD"
      },
      "source": [
        "regressor.compile(optimizer='adam',loss='mean_squared_error')"
      ],
      "execution_count": null,
      "outputs": []
    },
    {
      "cell_type": "markdown",
      "metadata": {
        "id": "-mPhwKGkkebi"
      },
      "source": [
        "### Fitting the RNN to the Training set"
      ]
    },
    {
      "cell_type": "code",
      "metadata": {
        "colab": {
          "base_uri": "https://localhost:8080/"
        },
        "id": "WzAZXb13tcgS",
        "outputId": "5c23349e-2a61-4420-ef14-06ed3aac29be"
      },
      "source": [
        "regressor.fit(X_train,y_train,epochs=100, batch_size = 32)"
      ],
      "execution_count": null,
      "outputs": [
        {
          "output_type": "stream",
          "text": [
            "Epoch 1/100\n",
            "38/38 [==============================] - 10s 103ms/step - loss: 0.0939\n",
            "Epoch 2/100\n",
            "38/38 [==============================] - 4s 108ms/step - loss: 0.0062\n",
            "Epoch 3/100\n",
            "38/38 [==============================] - 4s 108ms/step - loss: 0.0050\n",
            "Epoch 4/100\n",
            "38/38 [==============================] - 4s 108ms/step - loss: 0.0049\n",
            "Epoch 5/100\n",
            "38/38 [==============================] - 4s 108ms/step - loss: 0.0055\n",
            "Epoch 6/100\n",
            "38/38 [==============================] - 4s 107ms/step - loss: 0.0044\n",
            "Epoch 7/100\n",
            "38/38 [==============================] - 4s 107ms/step - loss: 0.0038\n",
            "Epoch 8/100\n",
            "38/38 [==============================] - 4s 107ms/step - loss: 0.0048\n",
            "Epoch 9/100\n",
            "38/38 [==============================] - 4s 107ms/step - loss: 0.0043\n",
            "Epoch 10/100\n",
            "38/38 [==============================] - 4s 106ms/step - loss: 0.0038\n",
            "Epoch 11/100\n",
            "38/38 [==============================] - 4s 109ms/step - loss: 0.0044\n",
            "Epoch 12/100\n",
            "38/38 [==============================] - 4s 108ms/step - loss: 0.0041\n",
            "Epoch 13/100\n",
            "38/38 [==============================] - 4s 110ms/step - loss: 0.0044\n",
            "Epoch 14/100\n",
            "38/38 [==============================] - 4s 109ms/step - loss: 0.0032\n",
            "Epoch 15/100\n",
            "38/38 [==============================] - 4s 111ms/step - loss: 0.0042\n",
            "Epoch 16/100\n",
            "38/38 [==============================] - 4s 110ms/step - loss: 0.0031\n",
            "Epoch 17/100\n",
            "38/38 [==============================] - 4s 109ms/step - loss: 0.0037\n",
            "Epoch 18/100\n",
            "38/38 [==============================] - 4s 110ms/step - loss: 0.0033\n",
            "Epoch 19/100\n",
            "38/38 [==============================] - 4s 109ms/step - loss: 0.0034\n",
            "Epoch 20/100\n",
            "38/38 [==============================] - 4s 110ms/step - loss: 0.0034\n",
            "Epoch 21/100\n",
            "38/38 [==============================] - 4s 108ms/step - loss: 0.0031\n",
            "Epoch 22/100\n",
            "38/38 [==============================] - 4s 113ms/step - loss: 0.0032\n",
            "Epoch 23/100\n",
            "38/38 [==============================] - 4s 111ms/step - loss: 0.0031\n",
            "Epoch 24/100\n",
            "38/38 [==============================] - 4s 113ms/step - loss: 0.0033\n",
            "Epoch 25/100\n",
            "38/38 [==============================] - 4s 112ms/step - loss: 0.0032\n",
            "Epoch 26/100\n",
            "38/38 [==============================] - 4s 112ms/step - loss: 0.0029\n",
            "Epoch 27/100\n",
            "38/38 [==============================] - 4s 112ms/step - loss: 0.0033\n",
            "Epoch 28/100\n",
            "38/38 [==============================] - 4s 113ms/step - loss: 0.0029\n",
            "Epoch 29/100\n",
            "38/38 [==============================] - 4s 112ms/step - loss: 0.0028\n",
            "Epoch 30/100\n",
            "38/38 [==============================] - 4s 112ms/step - loss: 0.0029\n",
            "Epoch 31/100\n",
            "38/38 [==============================] - 4s 111ms/step - loss: 0.0026\n",
            "Epoch 32/100\n",
            "38/38 [==============================] - 4s 112ms/step - loss: 0.0024\n",
            "Epoch 33/100\n",
            "38/38 [==============================] - 4s 109ms/step - loss: 0.0026\n",
            "Epoch 34/100\n",
            "38/38 [==============================] - 4s 112ms/step - loss: 0.0024\n",
            "Epoch 35/100\n",
            "38/38 [==============================] - 4s 114ms/step - loss: 0.0027\n",
            "Epoch 36/100\n",
            "38/38 [==============================] - 4s 113ms/step - loss: 0.0022\n",
            "Epoch 37/100\n",
            "38/38 [==============================] - 4s 111ms/step - loss: 0.0024\n",
            "Epoch 38/100\n",
            "38/38 [==============================] - 4s 112ms/step - loss: 0.0024\n",
            "Epoch 39/100\n",
            "38/38 [==============================] - 4s 112ms/step - loss: 0.0023\n",
            "Epoch 40/100\n",
            "38/38 [==============================] - 4s 112ms/step - loss: 0.0026\n",
            "Epoch 41/100\n",
            "38/38 [==============================] - 5s 127ms/step - loss: 0.0024\n",
            "Epoch 42/100\n",
            "38/38 [==============================] - 5s 125ms/step - loss: 0.0023\n",
            "Epoch 43/100\n",
            "38/38 [==============================] - 5s 119ms/step - loss: 0.0022\n",
            "Epoch 44/100\n",
            "38/38 [==============================] - 4s 112ms/step - loss: 0.0025\n",
            "Epoch 45/100\n",
            "38/38 [==============================] - 4s 113ms/step - loss: 0.0021\n",
            "Epoch 46/100\n",
            "38/38 [==============================] - 4s 111ms/step - loss: 0.0021\n",
            "Epoch 47/100\n",
            "38/38 [==============================] - 4s 110ms/step - loss: 0.0026\n",
            "Epoch 48/100\n",
            "38/38 [==============================] - 4s 113ms/step - loss: 0.0027\n",
            "Epoch 49/100\n",
            "38/38 [==============================] - 4s 111ms/step - loss: 0.0023\n",
            "Epoch 50/100\n",
            "38/38 [==============================] - 4s 112ms/step - loss: 0.0024\n",
            "Epoch 51/100\n",
            "38/38 [==============================] - 4s 112ms/step - loss: 0.0020\n",
            "Epoch 52/100\n",
            "38/38 [==============================] - 4s 111ms/step - loss: 0.0023\n",
            "Epoch 53/100\n",
            "38/38 [==============================] - 4s 111ms/step - loss: 0.0021\n",
            "Epoch 54/100\n",
            "38/38 [==============================] - 4s 111ms/step - loss: 0.0020\n",
            "Epoch 55/100\n",
            "38/38 [==============================] - 4s 112ms/step - loss: 0.0019\n",
            "Epoch 56/100\n",
            "38/38 [==============================] - 4s 110ms/step - loss: 0.0023\n",
            "Epoch 57/100\n",
            "38/38 [==============================] - 4s 111ms/step - loss: 0.0020\n",
            "Epoch 58/100\n",
            "38/38 [==============================] - 4s 111ms/step - loss: 0.0019\n",
            "Epoch 59/100\n",
            "38/38 [==============================] - 4s 113ms/step - loss: 0.0018\n",
            "Epoch 60/100\n",
            "38/38 [==============================] - 4s 112ms/step - loss: 0.0017\n",
            "Epoch 61/100\n",
            "38/38 [==============================] - 4s 111ms/step - loss: 0.0020\n",
            "Epoch 62/100\n",
            "38/38 [==============================] - 4s 111ms/step - loss: 0.0018\n",
            "Epoch 63/100\n",
            "38/38 [==============================] - 6s 146ms/step - loss: 0.0017\n",
            "Epoch 64/100\n",
            "38/38 [==============================] - 6s 151ms/step - loss: 0.0020\n",
            "Epoch 65/100\n",
            "38/38 [==============================] - 4s 110ms/step - loss: 0.0018\n",
            "Epoch 66/100\n",
            "38/38 [==============================] - 4s 109ms/step - loss: 0.0016\n",
            "Epoch 67/100\n",
            "38/38 [==============================] - 4s 111ms/step - loss: 0.0018\n",
            "Epoch 68/100\n",
            "38/38 [==============================] - 5s 121ms/step - loss: 0.0017\n",
            "Epoch 69/100\n",
            "38/38 [==============================] - 5s 123ms/step - loss: 0.0018\n",
            "Epoch 70/100\n",
            "38/38 [==============================] - 4s 114ms/step - loss: 0.0017\n",
            "Epoch 71/100\n",
            "38/38 [==============================] - 4s 110ms/step - loss: 0.0018\n",
            "Epoch 72/100\n",
            "38/38 [==============================] - 4s 109ms/step - loss: 0.0019\n",
            "Epoch 73/100\n",
            "38/38 [==============================] - 4s 109ms/step - loss: 0.0018\n",
            "Epoch 74/100\n",
            "38/38 [==============================] - 4s 110ms/step - loss: 0.0019\n",
            "Epoch 75/100\n",
            "38/38 [==============================] - 4s 109ms/step - loss: 0.0017\n",
            "Epoch 76/100\n",
            "38/38 [==============================] - 4s 111ms/step - loss: 0.0017\n",
            "Epoch 77/100\n",
            "38/38 [==============================] - 4s 109ms/step - loss: 0.0018\n",
            "Epoch 78/100\n",
            "38/38 [==============================] - 4s 110ms/step - loss: 0.0017\n",
            "Epoch 79/100\n",
            "38/38 [==============================] - 4s 111ms/step - loss: 0.0016\n",
            "Epoch 80/100\n",
            "38/38 [==============================] - 4s 111ms/step - loss: 0.0015\n",
            "Epoch 81/100\n",
            "38/38 [==============================] - 4s 112ms/step - loss: 0.0016\n",
            "Epoch 82/100\n",
            "38/38 [==============================] - 4s 110ms/step - loss: 0.0020\n",
            "Epoch 83/100\n",
            "38/38 [==============================] - 4s 112ms/step - loss: 0.0015\n",
            "Epoch 84/100\n",
            "38/38 [==============================] - 4s 112ms/step - loss: 0.0022\n",
            "Epoch 85/100\n",
            "38/38 [==============================] - 4s 111ms/step - loss: 0.0019\n",
            "Epoch 86/100\n",
            "38/38 [==============================] - 4s 110ms/step - loss: 0.0014\n",
            "Epoch 87/100\n",
            "38/38 [==============================] - 4s 112ms/step - loss: 0.0015\n",
            "Epoch 88/100\n",
            "38/38 [==============================] - 4s 111ms/step - loss: 0.0014\n",
            "Epoch 89/100\n",
            "38/38 [==============================] - 4s 109ms/step - loss: 0.0015\n",
            "Epoch 90/100\n",
            "38/38 [==============================] - 4s 111ms/step - loss: 0.0015\n",
            "Epoch 91/100\n",
            "38/38 [==============================] - 4s 111ms/step - loss: 0.0013\n",
            "Epoch 92/100\n",
            "38/38 [==============================] - 4s 112ms/step - loss: 0.0015\n",
            "Epoch 93/100\n",
            "38/38 [==============================] - 4s 113ms/step - loss: 0.0014\n",
            "Epoch 94/100\n",
            "38/38 [==============================] - 4s 112ms/step - loss: 0.0014\n",
            "Epoch 95/100\n",
            "38/38 [==============================] - 4s 112ms/step - loss: 0.0012\n",
            "Epoch 96/100\n",
            "38/38 [==============================] - 4s 111ms/step - loss: 0.0015\n",
            "Epoch 97/100\n",
            "38/38 [==============================] - 4s 110ms/step - loss: 0.0012\n",
            "Epoch 98/100\n",
            "38/38 [==============================] - 4s 112ms/step - loss: 0.0015\n",
            "Epoch 99/100\n",
            "38/38 [==============================] - 4s 112ms/step - loss: 0.0012\n",
            "Epoch 100/100\n",
            "38/38 [==============================] - 4s 113ms/step - loss: 0.0013\n"
          ],
          "name": "stdout"
        },
        {
          "output_type": "execute_result",
          "data": {
            "text/plain": [
              "<tensorflow.python.keras.callbacks.History at 0x7f2918c52668>"
            ]
          },
          "metadata": {
            "tags": []
          },
          "execution_count": 23
        }
      ]
    },
    {
      "cell_type": "markdown",
      "metadata": {
        "id": "4hRau_lIkrE8"
      },
      "source": [
        "## Part 3 - Making the predictions and visualising the results"
      ]
    },
    {
      "cell_type": "markdown",
      "metadata": {
        "id": "SgJO6qEDksxD"
      },
      "source": [
        "### Getting the real stock price of 2017"
      ]
    },
    {
      "cell_type": "code",
      "metadata": {
        "colab": {
          "base_uri": "https://localhost:8080/"
        },
        "id": "6I81kDq_zhKO",
        "outputId": "25448f86-6c52-48e5-df42-99550c066601"
      },
      "source": [
        "dataset_test = pd.read_csv('Google_Stock_Price_Test.csv')\r\n",
        "real_stock_price = dataset_test.iloc[:,1:2].values\r\n",
        "print(real_stock_price.shape)"
      ],
      "execution_count": null,
      "outputs": [
        {
          "output_type": "stream",
          "text": [
            "(20, 1)\n"
          ],
          "name": "stdout"
        }
      ]
    },
    {
      "cell_type": "markdown",
      "metadata": {
        "id": "GrvrLblxkz42"
      },
      "source": [
        "### Getting the predicted stock price of 2017"
      ]
    },
    {
      "cell_type": "code",
      "metadata": {
        "id": "H22mpwPAyqin"
      },
      "source": [
        "dataset_total = pd.concat((dataset_train['Open'],dataset_test['Open']),axis = 0)\r\n",
        "inputs = dataset_total[len(dataset_total)-len(dataset_test)-60:].values\r\n",
        "inputs = inputs.reshape(-1,1)\r\n",
        "inputs = sc.transform(inputs)\r\n",
        "X_test = []\r\n",
        "for i in range(60,80):\r\n",
        "  X_test.append(inputs[i-60:i,0])\r\n",
        "X_test = np.array(X_test)\r\n",
        "X_test = np.reshape(X_test,(X_test.shape[0],X_test.shape[1],1))\r\n",
        "predicted_Stock_price = regressor.predict(X_test)\r\n",
        "predicted_Stock_price = sc.inverse_transform(predicted_Stock_price)"
      ],
      "execution_count": null,
      "outputs": []
    },
    {
      "cell_type": "code",
      "metadata": {
        "colab": {
          "base_uri": "https://localhost:8080/"
        },
        "id": "nbn5uLatJPYV",
        "outputId": "f085f8e9-b334-44c7-c69e-a0c0e647670f"
      },
      "source": [
        "print(predicted_Stock_price)"
      ],
      "execution_count": null,
      "outputs": [
        {
          "output_type": "stream",
          "text": [
            "[[789.02484]\n",
            " [786.00726]\n",
            " [786.82916]\n",
            " [788.6155 ]\n",
            " [792.4445 ]\n",
            " [799.0679 ]\n",
            " [804.68097]\n",
            " [806.44214]\n",
            " [806.5105 ]\n",
            " [806.3085 ]\n",
            " [806.1982 ]\n",
            " [805.95886]\n",
            " [805.7006 ]\n",
            " [806.24255]\n",
            " [807.1855 ]\n",
            " [812.5602 ]\n",
            " [820.20935]\n",
            " [827.99774]\n",
            " [831.5318 ]\n",
            " [825.64813]]\n"
          ],
          "name": "stdout"
        }
      ]
    },
    {
      "cell_type": "markdown",
      "metadata": {
        "id": "iFTNs3YHk6FQ"
      },
      "source": [
        "### Visualising the results"
      ]
    },
    {
      "cell_type": "code",
      "metadata": {
        "colab": {
          "base_uri": "https://localhost:8080/",
          "height": 295
        },
        "id": "d5GAJ1gNLqJN",
        "outputId": "24cf12e4-1ff9-4e81-c13c-b1b4d26f28e5"
      },
      "source": [
        "plt.plot(real_stock_price,color='red',label='Google Real Stock Price')\r\n",
        "plt.plot(predicted_Stock_price,color='blue',label='Google Predicted stock Price')\r\n",
        "plt.title('Google Stock Price')\r\n",
        "plt.xlabel('Time')\r\n",
        "plt.ylabel('Google Stock Price')\r\n",
        "plt.legend()\r\n",
        "plt.show()"
      ],
      "execution_count": null,
      "outputs": [
        {
          "output_type": "display_data",
          "data": {
            "image/png": "[encoded data removed]",
            "text/plain": [
              "<Figure size 432x288 with 1 Axes>"
            ]
          },
          "metadata": {
            "tags": [],
            "needs_background": "light"
          }
        }
      ]
    },
    {
      "cell_type": "markdown",
      "metadata": {
        "id": "U0wKj_FOTiOh"
      },
      "source": [
        "## To Evaluate the model  \r\n",
        "## * we use RMSE(Root Mean Squared Error)\r\n",
        "* it s the closness between the actual stock price and predicted stock price"
      ]
    },
    {
      "cell_type": "code",
      "metadata": {
        "colab": {
          "base_uri": "https://localhost:8080/"
        },
        "id": "25hru727Thkh",
        "outputId": "815df27f-d4d0-44ac-be66-e3067d88630e"
      },
      "source": [
        "import math\r\n",
        "from sklearn.metrics import mean_squared_error\r\n",
        "rmse = math.sqrt(mean_squared_error(real_stock_price, predicted_Stock_price))\r\n",
        "print(rmse)"
      ],
      "execution_count": null,
      "outputs": [
        {
          "output_type": "stream",
          "text": [
            "10.999635359827533\n"
          ],
          "name": "stdout"
        }
      ]
    }
  ]
}